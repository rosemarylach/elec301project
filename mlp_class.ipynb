{
 "cells": [
  {
   "cell_type": "code",
   "execution_count": 2,
   "metadata": {},
   "outputs": [],
   "source": [
    "# import libraries\n",
    "import numpy as np\n",
    "import pandas as pd\n",
    "import scipy\n",
    "from sklearn.neural_network import MLPClassifier\n",
    "from sklearn.preprocessing import StandardScaler"
   ]
  },
  {
   "cell_type": "code",
   "execution_count": 3,
   "metadata": {},
   "outputs": [],
   "source": [
    "# read features from csv\n",
    "features = pd.read_csv('features.csv')\n",
    "test_features = pd.read_csv('test_features.csv')"
   ]
  },
  {
   "cell_type": "code",
   "execution_count": 4,
   "metadata": {},
   "outputs": [],
   "source": [
    "# create feature dataframe\n",
    "feature_names = [\"idx\", \"mean\", \"stdev\", \"skew\", \"kurtosis\", \"zcr_mean\", \"zcr_stdev\",\n",
    "                 \"rmse_mean\", \"rmse_stdev\", \"tempo\"] + \\\n",
    "                ['mfccs_' + str(i+1) + '_mean' for i in range(20)] + \\\n",
    "                ['mfccs_' + str(i+1) + '_stdev' for i in range(20)] + \\\n",
    "                ['chroma_' + str(i+1) + '_mean' for i in range(12)] + \\\n",
    "                ['chroma_' + str(i+1) + '_stdev' for i in range(12)] + \\\n",
    "                [\"centroid_mean\", \"centroid_stdev\"] + \\\n",
    "                ['contrast_' + str(i+1) + '_mean' for i in range(7)] + \\\n",
    "                ['contrast_' + str(i+1) + '_std' for i in range(7)] + \\\n",
    "                [\"rolloff_mean\", \"rolloff_stdev\", \"genre\"]\n",
    "\n",
    "param_names = feature_names[1:-1]\n",
    "label_names = feature_names[-1]"
   ]
  },
  {
   "cell_type": "code",
   "execution_count": 5,
   "metadata": {},
   "outputs": [],
   "source": [
    "# extract parameters and labels\n",
    "params = features.loc[:, param_names].values\n",
    "labels = features.loc[:, label_names].values\n",
    "\n",
    "test_params = test_features.loc[:, param_names].values\n",
    "\n",
    "# normalize data\n",
    "params_norm = StandardScaler().fit_transform(params)\n",
    "test_params_norm = StandardScaler().fit_transform(test_params)"
   ]
  },
  {
   "cell_type": "code",
   "execution_count": 19,
   "metadata": {},
   "outputs": [],
   "source": [
    "clf = MLPClassifier(solver='sgd', hidden_layer_sizes=(100,50,25), max_iter=10000, random_state=1)\n",
    "clf.fit(params_norm, labels)\n",
    "\n",
    "pred = clf.predict(test_params_norm)"
   ]
  },
  {
   "cell_type": "code",
   "execution_count": 20,
   "metadata": {},
   "outputs": [],
   "source": [
    "pred_frame = pd.DataFrame(columns=['filename', 'label'])\n",
    "filenames = ['sample%03d.wav' % i for i in range(0,300)]\n",
    "pred_frame = pd.DataFrame({'filename': filenames, 'label': pred})\n",
    "\n",
    "# save features to csv\n",
    "pred_frame.to_csv('Predictions/mlp_class_pred1.csv', index=False)"
   ]
  }
 ],
 "metadata": {
  "interpreter": {
   "hash": "a11a7898bbacc6e54bc147e5bd90ffd12e7469ce9d6885544a3a54412f749cf5"
  },
  "kernelspec": {
   "display_name": "Python 3.8.10 64-bit (windows store)",
   "language": "python",
   "name": "python3"
  },
  "language_info": {
   "codemirror_mode": {
    "name": "ipython",
    "version": 3
   },
   "file_extension": ".py",
   "mimetype": "text/x-python",
   "name": "python",
   "nbconvert_exporter": "python",
   "pygments_lexer": "ipython3",
   "version": "3.8.12"
  },
  "orig_nbformat": 4
 },
 "nbformat": 4,
 "nbformat_minor": 2
}
