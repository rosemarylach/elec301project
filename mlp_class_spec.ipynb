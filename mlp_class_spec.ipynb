{
 "cells": [
  {
   "cell_type": "code",
   "execution_count": 5,
   "metadata": {},
   "outputs": [],
   "source": [
    "# import libraries\n",
    "import numpy as np\n",
    "from PIL import Image\n",
    "import pandas as pd\n",
    "import os\n",
    "from sklearn.neural_network import MLPClassifier\n",
    "from sklearn.preprocessing import StandardScaler"
   ]
  },
  {
   "cell_type": "code",
   "execution_count": 2,
   "metadata": {},
   "outputs": [],
   "source": [
    "labels = np.empty(700, dtype=np.dtype('U15'))\n",
    "params = np.empty((700, 289912))\n",
    "\n",
    "data_dir = 'trainspecs/'\n",
    "png_files = os.listdir(data_dir)\n",
    "\n",
    "i=0\n",
    "\n",
    "for png in png_files:\n",
    "    label = \"\".join([i for i in png[:-4] if i.isalpha()])\n",
    "    labels[i] = label\n",
    "\n",
    "    img = Image.open('trainspecs/' + png)\n",
    "    arr = np.asarray(img).ravel()\n",
    "    params[i, :] = arr\n",
    "\n",
    "    i = i+1\n"
   ]
  },
  {
   "cell_type": "code",
   "execution_count": 3,
   "metadata": {},
   "outputs": [],
   "source": [
    "test_params = np.empty((300, 289912))\n",
    "\n",
    "test_dir = 'testspecs/'\n",
    "test_files = os.listdir(test_dir)\n",
    "\n",
    "i=0\n",
    "\n",
    "for png in test_files:\n",
    "\n",
    "    img = Image.open('testspecs/' + png)\n",
    "    arr = np.asarray(img).ravel()\n",
    "    test_params[i] = arr\n",
    "\n",
    "    i = i+1"
   ]
  },
  {
   "cell_type": "code",
   "execution_count": 38,
   "metadata": {},
   "outputs": [],
   "source": [
    "# normalize data\n",
    "params_norm = StandardScaler().fit_transform(params)\n",
    "test_params_norm = StandardScaler().fit_transform(test_params)"
   ]
  },
  {
   "cell_type": "code",
   "execution_count": 4,
   "metadata": {},
   "outputs": [],
   "source": [
    "clf = MLPClassifier(solver='sgd', hidden_layer_sizes=(100, 50, 25), max_iter=10000, random_state=1)\n",
    "clf.fit(params_norm, labels)\n",
    "\n",
    "pred = clf.predict(test_params_norm)"
   ]
  },
  {
   "cell_type": "code",
   "execution_count": 6,
   "metadata": {},
   "outputs": [],
   "source": [
    "pred_frame = pd.DataFrame(columns=['filename', 'label'])\n",
    "filenames = ['sample%03d.wav' % i for i in range(0,300)]\n",
    "pred_frame = pd.DataFrame({'filename': filenames, 'label': pred})\n",
    "\n",
    "# save features to csv\n",
    "pred_frame.to_csv('Predictions/mlp_class_spec1.csv', index=False)"
   ]
  }
 ],
 "metadata": {
  "interpreter": {
   "hash": "a11a7898bbacc6e54bc147e5bd90ffd12e7469ce9d6885544a3a54412f749cf5"
  },
  "kernelspec": {
   "display_name": "Python 3.8.10 64-bit (windows store)",
   "language": "python",
   "name": "python3"
  },
  "language_info": {
   "codemirror_mode": {
    "name": "ipython",
    "version": 3
   },
   "file_extension": ".py",
   "mimetype": "text/x-python",
   "name": "python",
   "nbconvert_exporter": "python",
   "pygments_lexer": "ipython3",
   "version": "3.8.12"
  },
  "orig_nbformat": 4
 },
 "nbformat": 4,
 "nbformat_minor": 2
}
