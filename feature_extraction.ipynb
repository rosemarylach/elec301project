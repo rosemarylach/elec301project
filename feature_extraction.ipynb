{
 "cells": [
  {
   "cell_type": "code",
   "execution_count": 3,
   "metadata": {},
   "outputs": [],
   "source": [
    "# import libraries\n",
    "import numpy as np\n",
    "import pandas as pd\n",
    "import scipy\n",
    "import librosa\n",
    "import os"
   ]
  },
  {
   "cell_type": "code",
   "execution_count": 5,
   "id": "74fcacb3",
   "metadata": {},
   "outputs": [],
   "source": [
    "data_dir = 'data/'\n",
    "wav_files = os.listdir(data_dir)\n",
    "samp_rate = 22050\n",
    "genres = [\"blues\", \"classical\", \"country\", \"disco\", \"hiphop\", \"jazz\", \"metal\", \"pop\", \"reggae\", \"rock\"]"
   ]
  },
  {
   "cell_type": "code",
   "execution_count": 6,
   "id": "aacd0c5a",
   "metadata": {},
   "outputs": [],
   "source": [
    "# create feature dataframe\n",
    "feature_names = [\"idx\", \"mean\", \"stdev\", \"skew\", \"kurtosis\", \"zcr_mean\", \"zcr_stdev\",\n",
    "                 \"rmse_mean\", \"rmse_stdev\", \"tempo\"] + \\\n",
    "                ['mfccs_' + str(i+1) + '_mean' for i in range(20)] + \\\n",
    "                ['mfccs_' + str(i+1) + '_stdev' for i in range(20)] + \\\n",
    "                ['chroma_' + str(i+1) + '_mean' for i in range(12)] + \\\n",
    "                ['chroma_' + str(i+1) + '_stdev' for i in range(12)] + \\\n",
    "                [\"centroid_mean\", \"centroid_stdev\"] + \\\n",
    "                ['contrast_' + str(i+1) + '_mean' for i in range(7)] + \\\n",
    "                ['contrast_' + str(i+1) + '_std' for i in range(7)] + \\\n",
    "                [\"rolloff_mean\", \"rolloff_stdev\", \"genre\"]\n",
    "\n",
    "param_names = feature_names[1:-1]\n",
    "label_names = feature_names[-1]\n",
    "\n",
    "feature_frame = pd.DataFrame(columns=feature_names)"
   ]
  },
  {
   "cell_type": "code",
   "execution_count": 7,
   "id": "b8de5f9e",
   "metadata": {},
   "outputs": [],
   "source": [
    "# populate feature dataframe\n",
    "\n",
    "for wav in wav_files:\n",
    "\n",
    "    # separate genre and idx from filename\n",
    "    genre = \"\".join([i for i in wav[:-4] if i.isalpha()])\n",
    "    idx = int(\"\".join([i for i in wav[:-4] if i.isdigit()]))\n",
    "    label = genres.index(genre)\n",
    "\n",
    "    # extract waveform\n",
    "    y, sr = librosa.load(data_dir + wav, sr = samp_rate)\n",
    "\n",
    "    # calculate features\n",
    "\n",
    "    # spectral moments\n",
    "    mean = np.mean(abs(y))\n",
    "    stdev = np.std(y)\n",
    "    skew = scipy.stats.skew(abs(y))\n",
    "    kurtosis = scipy.stats.kurtosis(y)\n",
    "\n",
    "    # zero crossing\n",
    "    zcr = librosa.feature.zero_crossing_rate(y + 0.0001, frame_length=2048, hop_length=512)[0]\n",
    "    zcr_mean = np.mean(zcr)\n",
    "    zcr_stdev = np.std(zcr)\n",
    "\n",
    "    # root mean squared energy\n",
    "    rmse = librosa.feature.rms(y + 0.0001)[0]\n",
    "    rmse_mean = np.mean(rmse)\n",
    "    rmse_stdev = np.mean(rmse)\n",
    "\n",
    "    # tempo\n",
    "    tempo = librosa.beat.tempo(y, sr=sr)\n",
    "\n",
    "    # Mel-Frequency cepstral coefficients\n",
    "    mfccs = librosa.feature.mfcc(y, sr=sr, n_mfcc=20)\n",
    "    mfccs_mean = np.mean(mfccs, axis=1)\n",
    "    mfccs_stdev = np.std(mfccs, axis=1)\n",
    "\n",
    "    # chroma vector data\n",
    "    chroma = librosa.feature.chroma_stft(y, sr=sr, hop_length=1024)\n",
    "    chroma_mean = np.mean(chroma, axis=1)\n",
    "    chroma_stdev = np.std(chroma, axis=1)\n",
    "\n",
    "    # spectral centroids\n",
    "    spectral_centroids = librosa.feature.spectral_centroid(y+0.01, sr=sr)[0]\n",
    "    centroid_mean = np.mean(spectral_centroids)\n",
    "    centroid_stdev = np.std(spectral_centroids)\n",
    "\n",
    "    # spectral contrast\n",
    "    spectral_contrast = librosa.feature.spectral_contrast(y, sr=sr, n_bands = 6, fmin = 200.0)\n",
    "    contrast_mean = np.mean(spectral_contrast, axis=1)\n",
    "    contrast_stdev = np.std(spectral_contrast, axis=1)\n",
    "\n",
    "    # spectral rolloff\n",
    "    spectral_rolloff = librosa.feature.spectral_rolloff(y+0.01, sr=sr, roll_percent = 0.85)[0]\n",
    "    rolloff_mean = np.mean(spectral_rolloff)\n",
    "    rolloff_stdev = np.std(spectral_rolloff)\n",
    "    \n",
    "    # Build feature vector\n",
    "    feature_vect = []\n",
    "    feature_vect.append(idx)\n",
    "    feature_vect.extend([mean, stdev, skew, kurtosis])\n",
    "    feature_vect.extend([zcr_mean, zcr_stdev])\n",
    "    feature_vect.extend([rmse_mean, rmse_stdev])\n",
    "    feature_vect.extend(tempo)\n",
    "    feature_vect.extend(mfccs_mean)\n",
    "    feature_vect.extend(mfccs_stdev)\n",
    "    feature_vect.extend(chroma_mean)\n",
    "    feature_vect.extend(chroma_stdev)\n",
    "    feature_vect.extend([centroid_mean, centroid_stdev])\n",
    "    feature_vect.extend(contrast_mean)\n",
    "    feature_vect.extend(contrast_stdev)\n",
    "    feature_vect.extend([rolloff_mean, rolloff_stdev])\n",
    "    feature_vect.append(genre)\n",
    "\n",
    "    # update dataframe\n",
    "    feature_frame = feature_frame.append(pd.DataFrame(feature_vect, index=feature_names).transpose(), ignore_index=True)"
   ]
  },
  {
   "cell_type": "code",
   "execution_count": 8,
   "id": "0624361f",
   "metadata": {},
   "outputs": [],
   "source": [
    "# save features to csv\n",
    "feature_frame.to_csv('features.csv', index=False)"
   ]
  },
  {
   "cell_type": "code",
   "execution_count": 9,
   "id": "a12e26fc",
   "metadata": {},
   "outputs": [],
   "source": [
    "# read features from csv\n",
    "features = pd.read_csv('features.csv')"
   ]
  },
  {
   "cell_type": "code",
   "execution_count": null,
   "id": "d6c403e7",
   "metadata": {},
   "outputs": [],
   "source": [
    "# extract parameters and labels\n",
    "params = features.loc[:, param_names].values\n",
    "labels = features.loc[:, label_names].values\n",
    "\n",
    "# normalize data\n",
    "params_norm = StandardScaler().fit_transform(params)\n",
    "\n",
    "# perform pca for dimensionality reduction\n",
    "pca = PCA(n_components=0.85, svd_solver='full')\n",
    "principal_components = pca.fit_transform(params)"
   ]
  }
 ],
 "metadata": {
  "kernelspec": {
   "display_name": "Python 3 (ipykernel)",
   "language": "python",
   "name": "python3"
  },
  "language_info": {
   "codemirror_mode": {
    "name": "ipython",
    "version": 3
   },
   "file_extension": ".py",
   "mimetype": "text/x-python",
   "name": "python",
   "nbconvert_exporter": "python",
   "pygments_lexer": "ipython3",
   "version": "3.8.12"
  }
 },
 "nbformat": 4,
 "nbformat_minor": 5
}
